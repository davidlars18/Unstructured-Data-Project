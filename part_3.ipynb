{
 "metadata": {
  "language_info": {
   "codemirror_mode": {
    "name": "ipython",
    "version": 3
   },
   "file_extension": ".py",
   "mimetype": "text/x-python",
   "name": "python",
   "nbconvert_exporter": "python",
   "pygments_lexer": "ipython3",
   "version": "3.7.6-final"
  },
  "orig_nbformat": 2,
  "kernelspec": {
   "name": "python3",
   "display_name": "Python 3"
  }
 },
 "nbformat": 4,
 "nbformat_minor": 2,
 "cells": [
  {
   "cell_type": "code",
   "execution_count": 51,
   "metadata": {},
   "outputs": [],
   "source": [
    "from composable import pipeable\n",
    "from composable.strict import map\n",
    "from composable import from_toolz as tlz\n",
    "from composable.sequence import slice, head\n",
    "from composable.strict import map, filter\n",
    "from composable.string import replace, split\n",
    "import re as r"
   ]
  },
  {
   "cell_type": "code",
   "execution_count": 5,
   "metadata": {},
   "outputs": [
    {
     "output_type": "execute_result",
     "data": {
      "text/plain": [
       "['Symbol   Side    Cxl      Qty    Price       Bid        Ask        T-DatS-DatTradeID      TradeTiSS      Exbkr    TradeCommType  SourceCommission   Account   OrderID      GTL               Trailer Info               Clr\\n',\n",
       " 'CERS     SS      NEW        2,756   2.400000    2.340000   2.45000006/1406/191706149900003 09:30:CustSS /17  /17  256945       00 0704 PerUnit   TERM  0.010000     AABBC     1706149900003#STA=GSCO\\n',\n",
       " 'CERS     SS      NEW          100   2.36000018422.360000   2.37000006/1406/191706149900003 10:20:ContraSSFREX /17  /17  866087       04 0704 PerUnit   TERM  0.010000     AABBC     1706149900003#STA=CERS 854300\\n',\n",
       " 'CERS     SS      NEW          200   2.350000    2.360000   2.37000006/1406/191706149900003 10:20:ContraSSFREX /17  /17  866096       04 0704 PerUnit   TERM  0.010000     AABBC     1706149900003#STA=CERS 854300\\n',\n",
       " 'CERS     SS      NEW          100   2.350000    2.350000   2.36000006/1406/191706149900003 10:20:ContraSSFREX /17  /17  869780       23 0704 PerUnit   TERM  0.010000     AABBC     1706149900003#STA=CERS 854300\\n',\n",
       " 'CERS     SS      NEW          100   2.350000    2.350000   2.36000006/1406/191706149900003 10:22:ContraSSFREX /17  /17  892888       29 0704 PerUnit   TERM  0.010000     AABBC     1706149900003#STA=CERS 854300\\n',\n",
       " 'CERS     SS      NEW          100   2.360000    2.350000   2.36000006/1406/191706149900003 10:24:ContraSSFREX /17  /17  909119       01 0704 PerUnit   TERM  0.010000     AABBC     1706149900003#STA=CERS\\n',\n",
       " 'CERS     SS      NEW          100   2.36000085432.350000   2.36000006/1406/191706149900003 10:24:ContraSSFREX /17  /17  909128       01 0704 PerUnit   TERM  0.010000     AABBC     1706149900003#STA=CERS 854300\\n',\n",
       " 'CERS     SS      NEW          100   2.360000    2.350000   2.36000006/1406/191706149900003 10:24:ContraSSFREX /17  /17  909140       01 0704 PerUnit   TERM  0.010000     AABBC     1706149900003#STA=CERS 854300\\n',\n",
       " 'CERS     SS      NEW          100   2.360000    2.350000   2.36000006/1406/191706149900003 10:24:ContraSSFREX /17  /17  909143       01 0704 PerUnit   TERM  0.010000     AABBC     1706149900003#STA=CERS 854300\\n']"
      ]
     },
     "metadata": {},
     "execution_count": 5
    }
   ],
   "source": [
    "with open('sell_short_trades_2.txt') as f:\n",
    "    content = f.readlines()\n",
    "content[:10]"
   ]
  },
  {
   "cell_type": "code",
   "execution_count": 23,
   "metadata": {},
   "outputs": [],
   "source": [
    "fix_headers = pipeable(lambda s: s.replace('Trailer Info','TrailerInfo').replace('SourceCommission','Source Commission').replace('T-DatS-DatTradeID','T-Dat S-Dat TradeID').strip())\n",
    "headers = content[0]\n",
    "headers_fixed = (headers\n",
    ">> fix_headers\n",
    ")"
   ]
  },
  {
   "cell_type": "code",
   "execution_count": 24,
   "metadata": {},
   "outputs": [
    {
     "output_type": "execute_result",
     "data": {
      "text/plain": [
       "'Symbol   Side    Cxl      Qty    Price       Bid        Ask        T-Dat S-Dat TradeID      TradeTiSS      Exbkr    TradeCommType  Source Commission   Account   OrderID      GTL               TrailerInfo               Clr'"
      ]
     },
     "metadata": {},
     "execution_count": 24
    }
   ],
   "source": [
    "headers_fixed"
   ]
  },
  {
   "cell_type": "code",
   "execution_count": 101,
   "metadata": {},
   "outputs": [],
   "source": [
    "strip = pipeable(lambda s: s.strip())\n",
    "no_commas = pipeable(lambda s: s.replace(',',''))\n",
    "\n",
    "data_rows = content[1:]\n",
    "trades = (data_rows\n",
    ">> map(strip)\n",
    ">> map(no_commas)\n",
    ")"
   ]
  },
  {
   "cell_type": "code",
   "execution_count": 296,
   "metadata": {},
   "outputs": [
    {
     "output_type": "execute_result",
     "data": {
      "text/plain": [
       "['CERS', 'CERS', 'CERS', 'CERS', 'CERS']"
      ]
     },
     "metadata": {},
     "execution_count": 296
    }
   ],
   "source": [
    "symbol_regex = r.compile(r'^(CERS|S)\\s+.*')\n",
    "get_symbol = pipeable(lambda s: symbol_regex.match(s).groups()[0])\n",
    "\n",
    "symbol = (trades\n",
    ">> map(get_symbol)\n",
    ")\n",
    "symbol[:5]"
   ]
  },
  {
   "cell_type": "code",
   "execution_count": 99,
   "metadata": {},
   "outputs": [
    {
     "output_type": "execute_result",
     "data": {
      "text/plain": [
       "['SS', 'SS', 'SS', 'SS', 'SS']"
      ]
     },
     "metadata": {},
     "execution_count": 99
    }
   ],
   "source": [
    "side_regex = r.compile(r'^(CERS|S)\\s+(SS)\\s+.*')\n",
    "get_side = pipeable(lambda s: side_regex.match(s).groups()[1])\n",
    "\n",
    "side = (trades\n",
    ">> map(get_side)\n",
    ")\n",
    "side[:5]"
   ]
  },
  {
   "cell_type": "code",
   "execution_count": 100,
   "metadata": {},
   "outputs": [
    {
     "output_type": "execute_result",
     "data": {
      "text/plain": [
       "['NEW', 'NEW', 'NEW', 'NEW', 'NEW']"
      ]
     },
     "metadata": {},
     "execution_count": 100
    }
   ],
   "source": [
    "cxl_regex = r.compile(r'^(CERS|S)\\s+(SS)\\s+(NEW).*')\n",
    "get_cxl = pipeable(lambda s: cxl_regex.match(s).groups()[2])\n",
    "\n",
    "cxl = (trades\n",
    ">> map(get_cxl)\n",
    ")\n",
    "cxl[:5]"
   ]
  },
  {
   "cell_type": "code",
   "execution_count": 103,
   "metadata": {},
   "outputs": [
    {
     "output_type": "execute_result",
     "data": {
      "text/plain": [
       "['2756', '100', '200', '100', '100']"
      ]
     },
     "metadata": {},
     "execution_count": 103
    }
   ],
   "source": [
    "qty_regex = r.compile(r'^(CERS|S)\\s+(SS)\\s+(NEW)\\s+(\\d+)\\s+.*')\n",
    "get_qty = pipeable(lambda s: qty_regex.match(s).groups()[3])\n",
    "\n",
    "qty = (trades\n",
    ">> map(get_qty)\n",
    ")\n",
    "qty[:5]"
   ]
  },
  {
   "cell_type": "code",
   "execution_count": 110,
   "metadata": {},
   "outputs": [
    {
     "output_type": "execute_result",
     "data": {
      "text/plain": [
       "['2.400000', '2.360000', '2.350000', '2.350000', '2.350000']"
      ]
     },
     "metadata": {},
     "execution_count": 110
    }
   ],
   "source": [
    "price_regex = r.compile(r'^(CERS|S)\\s+(SS)\\s+(NEW)\\s+(\\d+)\\s+(\\d\\.\\d{6}).*')\n",
    "get_price = pipeable(lambda s: price_regex.match(s).groups()[4])\n",
    "\n",
    "price = (trades\n",
    ">> map(get_price)\n",
    ")\n",
    "price[:5]"
   ]
  },
  {
   "cell_type": "code",
   "execution_count": 111,
   "metadata": {},
   "outputs": [
    {
     "output_type": "execute_result",
     "data": {
      "text/plain": [
       "['2.340000', '2.360000', '2.360000', '2.350000', '2.350000']"
      ]
     },
     "metadata": {},
     "execution_count": 111
    }
   ],
   "source": [
    "bid_regex = r.compile(r'^(CERS|S)\\s+(SS)\\s+(NEW)\\s+(\\d+)\\s+(\\d\\.\\d{6}).*?(\\d\\.\\d{6}).*')\n",
    "get_bid = pipeable(lambda s: bid_regex.match(s).groups()[5])\n",
    "\n",
    "bid = (trades\n",
    ">> map(get_bid)\n",
    ")\n",
    "bid[:5]"
   ]
  },
  {
   "cell_type": "code",
   "execution_count": 113,
   "metadata": {},
   "outputs": [
    {
     "output_type": "execute_result",
     "data": {
      "text/plain": [
       "['2.450000', '2.370000', '2.370000', '2.360000', '2.360000']"
      ]
     },
     "metadata": {},
     "execution_count": 113
    }
   ],
   "source": [
    "ask_regex = r.compile(r'^(CERS|S)\\s+(SS)\\s+(NEW)\\s+(\\d+)\\s+(\\d\\.\\d{6}).*?(\\d\\.\\d{6})\\s+(\\d\\.\\d{6}).*')\n",
    "get_ask = pipeable(lambda s: ask_regex.match(s).groups()[6])\n",
    "\n",
    "ask = (trades\n",
    ">> map(get_ask)\n",
    ")\n",
    "ask[:5]"
   ]
  },
  {
   "cell_type": "code",
   "execution_count": 114,
   "metadata": {},
   "outputs": [
    {
     "output_type": "execute_result",
     "data": {
      "text/plain": [
       "['06/14/17', '06/14/17', '06/14/17', '06/14/17', '06/14/17']"
      ]
     },
     "metadata": {},
     "execution_count": 114
    }
   ],
   "source": [
    "tdat_regex = r.compile(r'^(CERS|S)\\s+(SS)\\s+(NEW)\\s+(\\d+)\\s+(\\d\\.\\d{6}).*?(\\d\\.\\d{6})\\s+(\\d\\.\\d{6})(\\d\\d/\\d\\d).*?(/17).*?')\n",
    "get_tdat = pipeable(lambda s: tdat_regex.match(s).groups()[7] + tdat_regex.match(s).groups()[8])\n",
    "\n",
    "tdat = (trades\n",
    ">> map(get_tdat)\n",
    ")\n",
    "tdat[:5]"
   ]
  },
  {
   "cell_type": "code",
   "execution_count": 115,
   "metadata": {},
   "outputs": [
    {
     "output_type": "execute_result",
     "data": {
      "text/plain": [
       "['06/19/17', '06/19/17', '06/19/17', '06/19/17', '06/19/17']"
      ]
     },
     "metadata": {},
     "execution_count": 115
    }
   ],
   "source": [
    "sdat_regex = r.compile(r'^(CERS|S)\\s+(SS)\\s+(NEW)\\s+(\\d+)\\s+(\\d\\.\\d{6}).*?(\\d\\.\\d{6})\\s+(\\d\\.\\d{6})(\\d\\d/\\d\\d)(\\d\\d/\\d\\d).*?(/17).*?')\n",
    "get_sdat = pipeable(lambda s: sdat_regex.match(s).groups()[8] + sdat_regex.match(s).groups()[9])\n",
    "\n",
    "sdat = (trades\n",
    ">> map(get_sdat)\n",
    ")\n",
    "sdat[:5]"
   ]
  },
  {
   "cell_type": "code",
   "execution_count": 117,
   "metadata": {},
   "outputs": [
    {
     "output_type": "execute_result",
     "data": {
      "text/plain": [
       "['1706149900003',\n",
       " '1706149900003',\n",
       " '1706149900003',\n",
       " '1706149900003',\n",
       " '1706149900003']"
      ]
     },
     "metadata": {},
     "execution_count": 117
    }
   ],
   "source": [
    "tradeID_regex = r.compile(r'^(CERS|S)\\s+(SS)\\s+(NEW)\\s+(\\d+)\\s+(\\d\\.\\d{6}).*?(\\d\\.\\d{6})\\s+(\\d\\.\\d{6})(\\d\\d/\\d\\d)(\\d\\d/\\d\\d)(\\d+)\\s.*')\n",
    "get_tradeID = pipeable(lambda s: tradeID_regex.match(s).groups()[9])\n",
    "\n",
    "tradeID = (trades\n",
    ">> map(get_tradeID)\n",
    ")\n",
    "tradeID[:5]"
   ]
  },
  {
   "cell_type": "code",
   "execution_count": 124,
   "metadata": {},
   "outputs": [
    {
     "output_type": "execute_result",
     "data": {
      "text/plain": [
       "['09:30:CustSS',\n",
       " '10:20:ContraSSFREX',\n",
       " '10:20:ContraSSFREX',\n",
       " '10:20:ContraSSFREX',\n",
       " '10:22:ContraSSFREX']"
      ]
     },
     "metadata": {},
     "execution_count": 124
    }
   ],
   "source": [
    "tradetiss_regex = r.compile(r'^(CERS|S)\\s+(SS)\\s+(NEW)\\s+(\\d+)\\s+(\\d\\.\\d{6}).*?(\\d\\.\\d{6})\\s+(\\d\\.\\d{6})(\\d\\d/\\d\\d)(\\d\\d/\\d\\d)(\\d+)\\s(.*?)\\s.*')\n",
    "get_tradetiss = pipeable(lambda s: tradetiss_regex.match(s).groups()[10])\n",
    "\n",
    "tradeTiSS = (trades\n",
    ">> map(get_tradetiss)\n",
    ")\n",
    "tradeTiSS[:5]"
   ]
  },
  {
   "cell_type": "code",
   "execution_count": 260,
   "metadata": {},
   "outputs": [
    {
     "output_type": "execute_result",
     "data": {
      "text/plain": [
       "['0704', '0704', '0704', '0704', '0704']"
      ]
     },
     "metadata": {},
     "execution_count": 260
    }
   ],
   "source": [
    "exbkr_regex = r.compile(r'.*(\\d{4})\\sPerUnit.*?')\n",
    "get_exbkr = pipeable(lambda s: exbkr_regex.match(s).groups()[0])\n",
    "\n",
    "Exbkr = (trades\n",
    ">> map(get_exbkr)\n",
    ")\n",
    "Exbkr[:5]"
   ]
  },
  {
   "cell_type": "code",
   "execution_count": 128,
   "metadata": {},
   "outputs": [
    {
     "output_type": "execute_result",
     "data": {
      "text/plain": [
       "['PerUnit', 'PerUnit', 'PerUnit', 'PerUnit', 'PerUnit']"
      ]
     },
     "metadata": {},
     "execution_count": 128
    }
   ],
   "source": [
    "tradecommtype_regex = r.compile(r'.*?(PerUnit).*?')\n",
    "get_tradecommtype = pipeable(lambda s: tradecommtype_regex.match(s).groups()[0])\n",
    "\n",
    "TradeCommType = (trades\n",
    ">> map(get_tradecommtype)\n",
    ")\n",
    "TradeCommType[:5]"
   ]
  },
  {
   "cell_type": "code",
   "execution_count": 129,
   "metadata": {},
   "outputs": [
    {
     "output_type": "execute_result",
     "data": {
      "text/plain": [
       "['TERM', 'TERM', 'TERM', 'TERM', 'TERM']"
      ]
     },
     "metadata": {},
     "execution_count": 129
    }
   ],
   "source": [
    "source_regex = r.compile(r'.*?PerUnit\\s+(.*?)\\s.*?')\n",
    "get_source = pipeable(lambda s: source_regex.match(s).groups()[0])\n",
    "\n",
    "Source = (trades\n",
    ">> map(get_source)\n",
    ")\n",
    "Source[:5]"
   ]
  },
  {
   "cell_type": "code",
   "execution_count": 130,
   "metadata": {},
   "outputs": [
    {
     "output_type": "execute_result",
     "data": {
      "text/plain": [
       "['0.010000', '0.010000', '0.010000', '0.010000', '0.010000']"
      ]
     },
     "metadata": {},
     "execution_count": 130
    }
   ],
   "source": [
    "commission_regex = r.compile(r'.*?PerUnit\\s+(.*?)\\s(\\d\\.\\d+)\\s.*?')\n",
    "get_commission = pipeable(lambda s: commission_regex.match(s).groups()[1])\n",
    "\n",
    "Commission = (trades\n",
    ">> map(get_commission)\n",
    ")\n",
    "Commission[:5]"
   ]
  },
  {
   "cell_type": "code",
   "execution_count": 133,
   "metadata": {},
   "outputs": [
    {
     "output_type": "execute_result",
     "data": {
      "text/plain": [
       "['AABBC', 'AABBC', 'AABBC', 'AABBC', 'AABBC']"
      ]
     },
     "metadata": {},
     "execution_count": 133
    }
   ],
   "source": [
    "account_regex = r.compile(r'.*?PerUnit\\s+(.*?)\\s(\\d\\.\\d+)\\s+(.*?)\\s.*?')\n",
    "get_account = pipeable(lambda s: account_regex.match(s).groups()[2])\n",
    "\n",
    "Account = (trades\n",
    ">> map(get_account)\n",
    ")\n",
    "Account[:5]"
   ]
  },
  {
   "cell_type": "code",
   "execution_count": 153,
   "metadata": {},
   "outputs": [
    {
     "output_type": "execute_result",
     "data": {
      "text/plain": [
       "['1706149900003#STA=GSCO',\n",
       " '1706149900003#STA=CERS',\n",
       " '1706149900003#STA=CERS',\n",
       " '1706149900003#STA=CERS',\n",
       " '1706149900003#STA=CERS']"
      ]
     },
     "metadata": {},
     "execution_count": 153
    }
   ],
   "source": [
    "orderID_regex = r.compile(r'.*?PerUnit\\s+(.*?)\\s+(\\d\\.\\d+)\\s+(.*?)\\s+(\\D.*?)\\s+(.*?)(CERS|MSCO|GSCO)')\n",
    "get_orderID = pipeable(lambda s: orderID_regex.match(s).groups()[4] + orderID_regex.match(s).groups()[5])\n",
    "\n",
    "orderID = (trades\n",
    ">> map(get_orderID)\n",
    ")\n",
    "orderID[:5]"
   ]
  },
  {
   "cell_type": "code",
   "execution_count": 154,
   "metadata": {},
   "outputs": [
    {
     "output_type": "execute_result",
     "data": {
      "text/plain": [
       "['00', '04', '04', '23', '29']"
      ]
     },
     "metadata": {},
     "execution_count": 154
    }
   ],
   "source": [
    "gtl_regex = r.compile(r'.*?/17\\s+/17\\s+\\d{6}\\s+(\\d{2}).*?')\n",
    "get_gtl = pipeable(lambda s: gtl_regex.match(s).groups()[0])\n",
    "\n",
    "gtl = (trades\n",
    ">> map(get_gtl)\n",
    ")\n",
    "gtl[:5]"
   ]
  },
  {
   "cell_type": "code",
   "execution_count": 155,
   "metadata": {},
   "outputs": [
    {
     "output_type": "execute_result",
     "data": {
      "text/plain": [
       "['256945', '866087', '866096', '869780', '892888']"
      ]
     },
     "metadata": {},
     "execution_count": 155
    }
   ],
   "source": [
    "trailerinfo_regex = r.compile(r'.*?/17\\s+/17\\s+(\\d{6})\\s.*?')\n",
    "get_trailerinfo = pipeable(lambda s: trailerinfo_regex.match(s).groups()[0])\n",
    "\n",
    "TrailerInfo = (trades\n",
    ">> map(get_trailerinfo)\n",
    ")\n",
    "TrailerInfo[:5]"
   ]
  },
  {
   "cell_type": "code",
   "execution_count": 169,
   "metadata": {},
   "outputs": [
    {
     "output_type": "execute_result",
     "data": {
      "text/plain": [
       "['256945', '866087', '866096', '869780', '892888']"
      ]
     },
     "metadata": {},
     "execution_count": 169
    }
   ],
   "source": [
    "clr_regex = r.compile(r'.*?/17\\s+/17\\s+(\\d{6})\\s.*?')\n",
    "get_clr = pipeable(lambda s: clr_regex.match(s).groups()[0])\n",
    "\n",
    "Clr = (trades\n",
    ">> map(get_clr)\n",
    ")\n",
    "Clr[:5]"
   ]
  },
  {
   "cell_type": "code",
   "execution_count": 257,
   "metadata": {},
   "outputs": [
    {
     "output_type": "execute_result",
     "data": {
      "text/plain": [
       "['', '1842', '', '', '']"
      ]
     },
     "metadata": {},
     "execution_count": 257
    }
   ],
   "source": [
    "wrong_row_number_regex = r.compile(r'^(CERS|S)\\s+(SS)\\s+(NEW)\\s+(\\d+)\\s+(\\d\\.\\d{6})(....)(\\d\\.\\d{6}).*')\n",
    "wrong_row_number = pipeable(lambda s: wrong_row_number_regex.match(s).groups()[5])\n",
    "\n",
    "wrong_row = (trades\n",
    ">> map(wrong_row_number)\n",
    ">> map(strip)\n",
    ")\n",
    "wrong_row[:5]"
   ]
  },
  {
   "cell_type": "code",
   "execution_count": 188,
   "metadata": {},
   "outputs": [
    {
     "output_type": "execute_result",
     "data": {
      "text/plain": [
       "['1842', '', '', '', '']"
      ]
     },
     "metadata": {},
     "execution_count": 188
    }
   ],
   "source": [
    "updated_wrong_row = wrong_row[1:]\n",
    "updated_wrong_row[:5]"
   ]
  },
  {
   "cell_type": "code",
   "execution_count": 246,
   "metadata": {},
   "outputs": [
    {
     "output_type": "execute_result",
     "data": {
      "text/plain": [
       "912"
      ]
     },
     "metadata": {},
     "execution_count": 246
    }
   ],
   "source": [
    "fixing_wrong_clr_1842 = pipeable(lambda s: (s + '00') if (s == '1842') else s)\n",
    "fixing_wrong_clr_8543 = pipeable(lambda s: (s + '00') if (s == '8543') else s)\n",
    "fixing_wrong_clr_4736 = pipeable(lambda s: (s + '40') if (s == '4736') else s)\n",
    "\n",
    "fixed_wrong_clr = (updated_wrong_row\n",
    ">> map(fixing_wrong_clr_1842)\n",
    ">> map(fixing_wrong_clr_4736)\n",
    ">> map(fixing_wrong_clr_8543)\n",
    ")\n",
    "fixed_wrong_clr[:5]\n",
    "len(fixed_wrong_clr)"
   ]
  },
  {
   "cell_type": "code",
   "execution_count": 247,
   "metadata": {},
   "outputs": [
    {
     "output_type": "execute_result",
     "data": {
      "text/plain": [
       "913"
      ]
     },
     "metadata": {},
     "execution_count": 247
    }
   ],
   "source": [
    "fixed_wrong_clr = fixed_wrong_clr + ['']\n",
    "len(fixed_wrong_clr)"
   ]
  },
  {
   "cell_type": "code",
   "execution_count": 249,
   "metadata": {},
   "outputs": [
    {
     "output_type": "execute_result",
     "data": {
      "text/plain": [
       "['184200',\n",
       " '',\n",
       " '',\n",
       " '',\n",
       " '',\n",
       " '854300',\n",
       " '',\n",
       " '',\n",
       " '',\n",
       " '',\n",
       " '',\n",
       " '',\n",
       " '',\n",
       " '854300',\n",
       " '',\n",
       " '',\n",
       " '',\n",
       " '',\n",
       " '',\n",
       " '']"
      ]
     },
     "metadata": {},
     "execution_count": 249
    }
   ],
   "source": [
    "fixed_wrong_clr[:20]"
   ]
  },
  {
   "cell_type": "code",
   "execution_count": 254,
   "metadata": {},
   "outputs": [
    {
     "output_type": "execute_result",
     "data": {
      "text/plain": [
       "['',\n",
       " '854300',\n",
       " '854300',\n",
       " '854300',\n",
       " '854300',\n",
       " '',\n",
       " '854300',\n",
       " '854300',\n",
       " '854300',\n",
       " '854300',\n",
       " '854300',\n",
       " '854300',\n",
       " '854300',\n",
       " '',\n",
       " '854300',\n",
       " '854300',\n",
       " '854300',\n",
       " '854300',\n",
       " '854300',\n",
       " '854300']"
      ]
     },
     "metadata": {},
     "execution_count": 254
    }
   ],
   "source": [
    "clr_regex = r.compile(r'.*?(\\d{6})$')\n",
    "get_clr = pipeable(lambda s: (clr_regex.match(s).groups()[0]) if (clr_regex.match(s) != None) else '')\n",
    "\n",
    "regular_Clr = (trades\n",
    ">> map(get_clr)\n",
    ")\n",
    "regular_Clr[:20]\n"
   ]
  },
  {
   "cell_type": "code",
   "execution_count": 241,
   "metadata": {},
   "outputs": [],
   "source": [
    "def combine_Clr(lista, listb):\n",
    "    \"\"\"\n",
    "    \n",
    "    \"\"\"\n",
    "    list_a = list(lista)\n",
    "    list_b = list(listb)\n",
    "    output = list(lista)\n",
    "\n",
    "    i = 0\n",
    "    while(i < len(list_a)):\n",
    "        if len(list_a[i]) > 0:\n",
    "            output[i] = list_a[i]\n",
    "            #print(output[i] + 'a')\n",
    "        else:\n",
    "            output[i] = list_b[i]\n",
    "            #print(output[i] + 'b')\n",
    "        i = i + 1\n",
    "    return output"
   ]
  },
  {
   "cell_type": "code",
   "execution_count": 242,
   "metadata": {},
   "outputs": [
    {
     "output_type": "execute_result",
     "data": {
      "text/plain": [
       "['DEF', 'DEF', 'ABC']"
      ]
     },
     "metadata": {},
     "execution_count": 242
    }
   ],
   "source": [
    "combine_Clr(['','','ABC'], ['DEF','DEF','DEF'])"
   ]
  },
  {
   "cell_type": "code",
   "execution_count": 243,
   "metadata": {},
   "outputs": [],
   "source": [
    "def test_combine_Clr():\n",
    "    assert combine_Clr(['','','ABC'], ['DEF','DEF','DEF']) == ['DEF','DEF','ABC']\n",
    "    assert combine_Clr(['','',''], ['DEF','DEF','DEF']) == ['DEF','DEF','DEF']\n",
    "    assert combine_Clr(['ABC','ABC','ABC'], ['DEF','DEF','DEF']) == ['ABC','ABC','ABC']\n",
    "    assert not combine_Clr(['ABC','ABC','ABC'], ['DEF','DEF','DEF']) == ['DEF','ABC','ABC']\n",
    "test_combine_Clr()"
   ]
  },
  {
   "cell_type": "code",
   "execution_count": 258,
   "metadata": {
    "tags": []
   },
   "outputs": [
    {
     "output_type": "execute_result",
     "data": {
      "text/plain": [
       "['184200', '854300', '854300', '854300', '854300']"
      ]
     },
     "metadata": {},
     "execution_count": 258
    }
   ],
   "source": [
    "Clr = combine_Clr(fixed_wrong_clr, regular_Clr)\n",
    "Clr[:5]"
   ]
  },
  {
   "cell_type": "code",
   "execution_count": 318,
   "metadata": {},
   "outputs": [
    {
     "output_type": "execute_result",
     "data": {
      "text/plain": [
       "['Symbol', '', '', 'Side', '']"
      ]
     },
     "metadata": {},
     "execution_count": 318
    }
   ],
   "source": [
    "real_headers = headers_fixed.split(' ')\n",
    "real_headers[:5]"
   ]
  },
  {
   "cell_type": "code",
   "execution_count": 288,
   "metadata": {},
   "outputs": [
    {
     "output_type": "execute_result",
     "data": {
      "text/plain": [
       "['s', 's']"
      ]
     },
     "metadata": {},
     "execution_count": 288
    }
   ],
   "source": [
    "def delete_empties(lista):\n",
    "    \"\"\"\n",
    "    \n",
    "    \"\"\"\n",
    "    list_a = list(lista)\n",
    "    i = 0\n",
    "    while i < len(list_a):\n",
    "        if list_a[i] == '':\n",
    "            del(list_a[i])\n",
    "        else:\n",
    "            i = i + 1\n",
    "    return list_a\n",
    "\n",
    "delete_empties(['','s','','s','',''])"
   ]
  },
  {
   "cell_type": "code",
   "execution_count": 307,
   "metadata": {},
   "outputs": [
    {
     "output_type": "execute_result",
     "data": {
      "text/plain": [
       "'Symbol,Side,Cxl,Qty,Price,Bid,Ask,T-Dat,S-Dat,TradeID,TradeTiSS,Exbkr,TradeCommType,Source,Commission,Account,OrderID,GTL,TrailerInfo,Clr\\n'"
      ]
     },
     "metadata": {},
     "execution_count": 307
    }
   ],
   "source": [
    "h2 = delete_empties(real_headers)\n",
    "header = ','.join(h2) + '\\n'\n",
    "header"
   ]
  },
  {
   "cell_type": "code",
   "execution_count": 297,
   "metadata": {},
   "outputs": [
    {
     "output_type": "execute_result",
     "data": {
      "text/plain": [
       "[('CERS',\n",
       "  'SS',\n",
       "  'NEW',\n",
       "  '2756',\n",
       "  '2.400000',\n",
       "  '2.340000',\n",
       "  '2.450000',\n",
       "  '06/19/17',\n",
       "  '06/14/17',\n",
       "  '1706149900003',\n",
       "  '09:30:CustSS',\n",
       "  '0704',\n",
       "  'PerUnit',\n",
       "  'TERM',\n",
       "  '0.010000',\n",
       "  'AABBC',\n",
       "  '1706149900003#STA=GSCO',\n",
       "  '00',\n",
       "  '256945',\n",
       "  '184200')]"
      ]
     },
     "metadata": {},
     "execution_count": 297
    }
   ],
   "source": [
    "data = [(symbol, side, cxl, qty, price, bid, ask, sdat, tdat, tradeID, tradeTiSS, Exbkr, TradeCommType, Source, Commission, Account, orderID, gtl, TrailerInfo, Clr) for symbol, side, cxl, qty, price, bid, ask, sdat, tdat, tradeID, tradeTiSS, Exbkr, TradeCommType, Source, Commission, Account, orderID, gtl, TrailerInfo, Clr in zip(symbol, side, cxl, qty, price, bid, ask, sdat, tdat, tradeID, tradeTiSS, Exbkr, TradeCommType, Source, Commission, Account, orderID, gtl, TrailerInfo, Clr)]\n",
    "data[:1]"
   ]
  },
  {
   "cell_type": "code",
   "execution_count": 309,
   "metadata": {},
   "outputs": [
    {
     "output_type": "execute_result",
     "data": {
      "text/plain": [
       "['CERS,SS,NEW,2756,2.400000,2.340000,2.450000,06/19/17,06/14/17,1706149900003,09:30:CustSS,0704,PerUnit,TERM,0.010000,AABBC,1706149900003#STA=GSCO,00,256945,184200',\n",
       " 'CERS,SS,NEW,100,2.360000,2.360000,2.370000,06/19/17,06/14/17,1706149900003,10:20:ContraSSFREX,0704,PerUnit,TERM,0.010000,AABBC,1706149900003#STA=CERS,04,866087,854300',\n",
       " 'CERS,SS,NEW,200,2.350000,2.360000,2.370000,06/19/17,06/14/17,1706149900003,10:20:ContraSSFREX,0704,PerUnit,TERM,0.010000,AABBC,1706149900003#STA=CERS,04,866096,854300',\n",
       " 'CERS,SS,NEW,100,2.350000,2.350000,2.360000,06/19/17,06/14/17,1706149900003,10:20:ContraSSFREX,0704,PerUnit,TERM,0.010000,AABBC,1706149900003#STA=CERS,23,869780,854300',\n",
       " 'CERS,SS,NEW,100,2.350000,2.350000,2.360000,06/19/17,06/14/17,1706149900003,10:22:ContraSSFREX,0704,PerUnit,TERM,0.010000,AABBC,1706149900003#STA=CERS,29,892888,854300',\n",
       " 'CERS,SS,NEW,100,2.360000,2.350000,2.360000,06/19/17,06/14/17,1706149900003,10:24:ContraSSFREX,0704,PerUnit,TERM,0.010000,AABBC,1706149900003#STA=CERS,01,909119,854300',\n",
       " 'CERS,SS,NEW,100,2.360000,2.350000,2.360000,06/19/17,06/14/17,1706149900003,10:24:ContraSSFREX,0704,PerUnit,TERM,0.010000,AABBC,1706149900003#STA=CERS,01,909128,854300',\n",
       " 'CERS,SS,NEW,100,2.360000,2.350000,2.360000,06/19/17,06/14/17,1706149900003,10:24:ContraSSFREX,0704,PerUnit,TERM,0.010000,AABBC,1706149900003#STA=CERS,01,909140,854300',\n",
       " 'CERS,SS,NEW,100,2.360000,2.350000,2.360000,06/19/17,06/14/17,1706149900003,10:24:ContraSSFREX,0704,PerUnit,TERM,0.010000,AABBC,1706149900003#STA=CERS,01,909143,854300',\n",
       " 'CERS,SS,NEW,100,2.360000,2.350000,2.360000,06/19/17,06/14/17,1706149900003,10:24:ContraSSFREX,0704,PerUnit,TERM,0.010000,AABBC,1706149900003#STA=CERS,01,909148,854300']"
      ]
     },
     "metadata": {},
     "execution_count": 309
    }
   ],
   "source": [
    "join_data = pipeable(lambda s: ','.join(s))\n",
    "\n",
    "almost_there = (data\n",
    ">> map(join_data)\n",
    ")\n",
    "almost_there[:10]"
   ]
  },
  {
   "cell_type": "code",
   "execution_count": 316,
   "metadata": {},
   "outputs": [],
   "source": [
    "closer = '\\n'.join(almost_there)\n",
    "output = header + closer"
   ]
  },
  {
   "cell_type": "code",
   "execution_count": 317,
   "metadata": {},
   "outputs": [],
   "source": [
    "with open('sell_short_trades_final.csv', 'w') as outfile:\n",
    "    outfile.write(output)"
   ]
  }
 ]
}